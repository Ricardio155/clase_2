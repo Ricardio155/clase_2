{
  "nbformat": 4,
  "nbformat_minor": 0,
  "metadata": {
    "colab": {
      "name": "Clase2_Preguntas_Carolay Borja.ipynb",
      "provenance": []
    },
    "kernelspec": {
      "name": "python3",
      "display_name": "Python 3"
    },
    "language_info": {
      "name": "python"
    }
  },
  "cells": [
    {
      "cell_type": "markdown",
      "source": [
        "# Universidad Central del Ecuador\n",
        "# Facultad de Ciencias Económicas\n",
        "**Curso de Python**\n",
        "\n",
        "**Nombre:** \n",
        "\n",
        "*Borja Vargas Carolay Ibeth*\n",
        "\n",
        "**Ejercicios Clase 2**\n",
        "\n",
        "*EJERCICIO 1*"
      ],
      "metadata": {
        "id": "GnQz6jaSSsKe"
      }
    },
    {
      "cell_type": "markdown",
      "source": [
        "**1 Programa la impresión de una tabla de multiplicar para todos los números entre 1 y 10, usando For-loops\n",
        "Rendimiento esperado:**\n",
        "\n",
        " 1   times  1  =    1\n",
        "\n",
        " 1   times  2  =    2\n",
        "\n",
        " ...\n",
        " 1   times 10  =   10\n",
        " \n",
        " ...\n",
        "10   times 10  =  100  "
      ],
      "metadata": {
        "id": "KWOwhrUulb4J"
      }
    },
    {
      "cell_type": "code",
      "source": [
        "#La tabla de multiplicar del 1 al 10\n",
        "\n",
        "for numero1 in range(1,10+1):\n",
        "  print(\"Tabla de multiplicar del número =\", numero1)\n",
        "  for numero2 in range(1,10+1):\n",
        "    print(\"      \",numero1,\"times\",numero2,\"=\",numero1*numero2)"
      ],
      "metadata": {
        "colab": {
          "base_uri": "https://localhost:8080/"
        },
        "id": "JCtnHbAUk69N",
        "outputId": "9d6d1efd-c675-4595-cebc-3f21bbe146a3"
      },
      "execution_count": null,
      "outputs": [
        {
          "output_type": "stream",
          "name": "stdout",
          "text": [
            "Tabla de multiplicar del número = 1\n",
            "       1 times 1 = 1\n",
            "       1 times 2 = 2\n",
            "       1 times 3 = 3\n",
            "       1 times 4 = 4\n",
            "       1 times 5 = 5\n",
            "       1 times 6 = 6\n",
            "       1 times 7 = 7\n",
            "       1 times 8 = 8\n",
            "       1 times 9 = 9\n",
            "       1 times 10 = 10\n",
            "Tabla de multiplicar del número = 2\n",
            "       2 times 1 = 2\n",
            "       2 times 2 = 4\n",
            "       2 times 3 = 6\n",
            "       2 times 4 = 8\n",
            "       2 times 5 = 10\n",
            "       2 times 6 = 12\n",
            "       2 times 7 = 14\n",
            "       2 times 8 = 16\n",
            "       2 times 9 = 18\n",
            "       2 times 10 = 20\n",
            "Tabla de multiplicar del número = 3\n",
            "       3 times 1 = 3\n",
            "       3 times 2 = 6\n",
            "       3 times 3 = 9\n",
            "       3 times 4 = 12\n",
            "       3 times 5 = 15\n",
            "       3 times 6 = 18\n",
            "       3 times 7 = 21\n",
            "       3 times 8 = 24\n",
            "       3 times 9 = 27\n",
            "       3 times 10 = 30\n",
            "Tabla de multiplicar del número = 4\n",
            "       4 times 1 = 4\n",
            "       4 times 2 = 8\n",
            "       4 times 3 = 12\n",
            "       4 times 4 = 16\n",
            "       4 times 5 = 20\n",
            "       4 times 6 = 24\n",
            "       4 times 7 = 28\n",
            "       4 times 8 = 32\n",
            "       4 times 9 = 36\n",
            "       4 times 10 = 40\n",
            "Tabla de multiplicar del número = 5\n",
            "       5 times 1 = 5\n",
            "       5 times 2 = 10\n",
            "       5 times 3 = 15\n",
            "       5 times 4 = 20\n",
            "       5 times 5 = 25\n",
            "       5 times 6 = 30\n",
            "       5 times 7 = 35\n",
            "       5 times 8 = 40\n",
            "       5 times 9 = 45\n",
            "       5 times 10 = 50\n",
            "Tabla de multiplicar del número = 6\n",
            "       6 times 1 = 6\n",
            "       6 times 2 = 12\n",
            "       6 times 3 = 18\n",
            "       6 times 4 = 24\n",
            "       6 times 5 = 30\n",
            "       6 times 6 = 36\n",
            "       6 times 7 = 42\n",
            "       6 times 8 = 48\n",
            "       6 times 9 = 54\n",
            "       6 times 10 = 60\n",
            "Tabla de multiplicar del número = 7\n",
            "       7 times 1 = 7\n",
            "       7 times 2 = 14\n",
            "       7 times 3 = 21\n",
            "       7 times 4 = 28\n",
            "       7 times 5 = 35\n",
            "       7 times 6 = 42\n",
            "       7 times 7 = 49\n",
            "       7 times 8 = 56\n",
            "       7 times 9 = 63\n",
            "       7 times 10 = 70\n",
            "Tabla de multiplicar del número = 8\n",
            "       8 times 1 = 8\n",
            "       8 times 2 = 16\n",
            "       8 times 3 = 24\n",
            "       8 times 4 = 32\n",
            "       8 times 5 = 40\n",
            "       8 times 6 = 48\n",
            "       8 times 7 = 56\n",
            "       8 times 8 = 64\n",
            "       8 times 9 = 72\n",
            "       8 times 10 = 80\n",
            "Tabla de multiplicar del número = 9\n",
            "       9 times 1 = 9\n",
            "       9 times 2 = 18\n",
            "       9 times 3 = 27\n",
            "       9 times 4 = 36\n",
            "       9 times 5 = 45\n",
            "       9 times 6 = 54\n",
            "       9 times 7 = 63\n",
            "       9 times 8 = 72\n",
            "       9 times 9 = 81\n",
            "       9 times 10 = 90\n",
            "Tabla de multiplicar del número = 10\n",
            "       10 times 1 = 10\n",
            "       10 times 2 = 20\n",
            "       10 times 3 = 30\n",
            "       10 times 4 = 40\n",
            "       10 times 5 = 50\n",
            "       10 times 6 = 60\n",
            "       10 times 7 = 70\n",
            "       10 times 8 = 80\n",
            "       10 times 9 = 90\n",
            "       10 times 10 = 100\n"
          ]
        }
      ]
    },
    {
      "cell_type": "markdown",
      "source": [
        "*EJERCICIO 2*"
      ],
      "metadata": {
        "id": "Np3bwzRBospN"
      }
    },
    {
      "cell_type": "markdown",
      "source": [
        "**2 Programe un calendario (para todos los meses) para 2020 usando For-loops\n",
        "Rendimiento esperado:**\n",
        "\n",
        "     January                     \n",
        "     Mon Tue Wed Thu Fri Sat Sun  \n",
        "              1   2   3   4   5\n",
        "      6   7   8   9  10  11  12\n",
        "     13  14  15  16  17  18  19\n",
        "     20  21  22  23  24  25  26\n",
        "     27  28  29  30  31\n",
        "     \n",
        "     February\n",
        "     Mon Tue Wed Thu Fri Sat Sun\n",
        "                           1   2\n",
        "\n",
        "\n",
        "\n"
      ],
      "metadata": {
        "id": "9Jsg7ZQWovuE"
      }
    },
    {
      "cell_type": "code",
      "source": [
        "# La función calendar implementa clases para trabajar con fechas para \n",
        "# gestionar valores orientados año / mes / semana.\n",
        "\n",
        "import calendar\n",
        "for calendario in range(1,12+1):\n",
        "  print(calendar.month(2020,calendario))"
      ],
      "metadata": {
        "id": "R00jj_y5pOum",
        "colab": {
          "base_uri": "https://localhost:8080/"
        },
        "outputId": "dc367354-7925-4ecd-f462-9bc3546ea63f"
      },
      "execution_count": 29,
      "outputs": [
        {
          "output_type": "stream",
          "name": "stdout",
          "text": [
            "    January 2020\n",
            "Mo Tu We Th Fr Sa Su\n",
            "       1  2  3  4  5\n",
            " 6  7  8  9 10 11 12\n",
            "13 14 15 16 17 18 19\n",
            "20 21 22 23 24 25 26\n",
            "27 28 29 30 31\n",
            "\n",
            "   February 2020\n",
            "Mo Tu We Th Fr Sa Su\n",
            "                1  2\n",
            " 3  4  5  6  7  8  9\n",
            "10 11 12 13 14 15 16\n",
            "17 18 19 20 21 22 23\n",
            "24 25 26 27 28 29\n",
            "\n",
            "     March 2020\n",
            "Mo Tu We Th Fr Sa Su\n",
            "                   1\n",
            " 2  3  4  5  6  7  8\n",
            " 9 10 11 12 13 14 15\n",
            "16 17 18 19 20 21 22\n",
            "23 24 25 26 27 28 29\n",
            "30 31\n",
            "\n",
            "     April 2020\n",
            "Mo Tu We Th Fr Sa Su\n",
            "       1  2  3  4  5\n",
            " 6  7  8  9 10 11 12\n",
            "13 14 15 16 17 18 19\n",
            "20 21 22 23 24 25 26\n",
            "27 28 29 30\n",
            "\n",
            "      May 2020\n",
            "Mo Tu We Th Fr Sa Su\n",
            "             1  2  3\n",
            " 4  5  6  7  8  9 10\n",
            "11 12 13 14 15 16 17\n",
            "18 19 20 21 22 23 24\n",
            "25 26 27 28 29 30 31\n",
            "\n",
            "     June 2020\n",
            "Mo Tu We Th Fr Sa Su\n",
            " 1  2  3  4  5  6  7\n",
            " 8  9 10 11 12 13 14\n",
            "15 16 17 18 19 20 21\n",
            "22 23 24 25 26 27 28\n",
            "29 30\n",
            "\n",
            "     July 2020\n",
            "Mo Tu We Th Fr Sa Su\n",
            "       1  2  3  4  5\n",
            " 6  7  8  9 10 11 12\n",
            "13 14 15 16 17 18 19\n",
            "20 21 22 23 24 25 26\n",
            "27 28 29 30 31\n",
            "\n",
            "    August 2020\n",
            "Mo Tu We Th Fr Sa Su\n",
            "                1  2\n",
            " 3  4  5  6  7  8  9\n",
            "10 11 12 13 14 15 16\n",
            "17 18 19 20 21 22 23\n",
            "24 25 26 27 28 29 30\n",
            "31\n",
            "\n",
            "   September 2020\n",
            "Mo Tu We Th Fr Sa Su\n",
            "    1  2  3  4  5  6\n",
            " 7  8  9 10 11 12 13\n",
            "14 15 16 17 18 19 20\n",
            "21 22 23 24 25 26 27\n",
            "28 29 30\n",
            "\n",
            "    October 2020\n",
            "Mo Tu We Th Fr Sa Su\n",
            "          1  2  3  4\n",
            " 5  6  7  8  9 10 11\n",
            "12 13 14 15 16 17 18\n",
            "19 20 21 22 23 24 25\n",
            "26 27 28 29 30 31\n",
            "\n",
            "   November 2020\n",
            "Mo Tu We Th Fr Sa Su\n",
            "                   1\n",
            " 2  3  4  5  6  7  8\n",
            " 9 10 11 12 13 14 15\n",
            "16 17 18 19 20 21 22\n",
            "23 24 25 26 27 28 29\n",
            "30\n",
            "\n",
            "   December 2020\n",
            "Mo Tu We Th Fr Sa Su\n",
            "    1  2  3  4  5  6\n",
            " 7  8  9 10 11 12 13\n",
            "14 15 16 17 18 19 20\n",
            "21 22 23 24 25 26 27\n",
            "28 29 30 31\n",
            "\n"
          ]
        }
      ]
    },
    {
      "cell_type": "markdown",
      "source": [
        "*EJERCICIO 3*"
      ],
      "metadata": {
        "id": "xE1Fc907wIhX"
      }
    },
    {
      "cell_type": "markdown",
      "source": [
        "**3 Programe la siguiente regulación fiscal, usando datos ficticios con declaraciones condicionales, use las tres cláusulas (if, elif, else) al menos una vez**\n",
        "\n",
        "Si el valor del paquete es inferior a 20 no tienes que pagar ningún impuesto de importación Si el valor del paquete está entre 20 y 30 pagas 10% de impuesto de importación sobre el valor total Si el valor del paquete está entre 30 y 60, paga un impuesto de importación adicional del 7% sobre el valor superior a 30 Si el valor del paquete es superior a 60, paga un impuesto de importación adicional del 3% sobre el valor superior a 60\n",
        "\n",
        "Si el valor del paquete es superior a 10 pagas el 20% de IVA sobre la suma total del valor e impuesto de importación\n",
        "\n",
        "El valor del paquete debe establecerse en una variable y debe probar si su programa funciona para diferentes valores.\n",
        "\n",
        "**Salida esperada (ejemplo):**\n",
        "\n",
        "El valor del paquete fue de 25,00, el impuesto de importación es de 2,50, el IVA es de 5,50, el total es de 33,00."
      ],
      "metadata": {
        "id": "wg_lyIwtwLnQ"
      }
    },
    {
      "cell_type": "code",
      "source": [
        "valor = int(input(\"Digite el valor del paquete\"))\n",
        "\n",
        "if valor >=10 and valor<20:\n",
        "    IVA=(valor*0.2)\n",
        "    Total = round(valor+IVA, 2)\n",
        "    print(\"El valor del paquete fue de\",valor, \"no tiene que pagar impuesto, el IVA es de\", IVA,\"el total es de \",Total)\n",
        "\n",
        "elif valor <20:\n",
        "    print(\"El valor del paquete fue de\",valor, \"no tiene que pagar impuesto, el total es de \",valor)\n",
        "\n",
        "elif valor >= 20 and valor <= 30:\n",
        "    Impuesto = valor*0.10\n",
        "    IVA = round(valor*0.2+Impuesto*0.2, 2)\n",
        "    Total = round(valor+Impuesto+IVA, 2)\n",
        "    print(\"El valor del paquete fue de\", valor, \", el impuesto de importación es de\", Impuesto, \", el IVA es de\", IVA, \",el total es de \", Total )\n",
        "\n",
        "elif valor >=30 and valor <= 60:\n",
        "    Impuesto = valor*0.07\n",
        "    IVA = round(valor*0.2+Impuesto*0.2, 2)\n",
        "    Total = round(valor+Impuesto+IVA, 2)\n",
        "    print(\"El valor del paquete fue de\", valor, \", el impuesto de importación es de\", Impuesto, \", el IVA es de\", IVA, \",el total es de \", Total )\n",
        "\n",
        "elif valor > 60:\n",
        "     Impuesto = valor*0.03\n",
        "     IVA = round(valor*0.2+Impuesto*0.2, 2)\n",
        "     Total = round(valor+Impuesto+IVA, 2)\n",
        "     print(\"El valor del paquete fue de\", valor, \", el impuesto de importación es de\", Impuesto, \", el IVA es de\", IVA, \",el total es de \", Total )\n",
        "\n",
        "  "
      ],
      "metadata": {
        "colab": {
          "base_uri": "https://localhost:8080/"
        },
        "id": "rR1sK85RxLI9",
        "outputId": "eebc1867-3823-496c-b3c4-48e2c0f4cfb2"
      },
      "execution_count": 57,
      "outputs": [
        {
          "output_type": "stream",
          "name": "stdout",
          "text": [
            "Digite el valor del paquete5\n",
            "El valor del paquete fue de 5 no tiene que pagar impuesto, el total es de  5\n"
          ]
        }
      ]
    },
    {
      "cell_type": "markdown",
      "source": [
        "*EJERCICIO 4*\n"
      ],
      "metadata": {
        "id": "ATQvWaxI6z-D"
      }
    },
    {
      "cell_type": "markdown",
      "source": [
        "**4 Reescribe el siguiente programa reemplazando la declaración condicional con expresiones condicionales**"
      ],
      "metadata": {
        "id": "f5RZJjBy65j7"
      }
    },
    {
      "cell_type": "code",
      "source": [
        "a = -1\n",
        "if a == 0:\n",
        "    result = \"= 0\"\n",
        "elif a>1:\n",
        "    result = \"> 1\"\n",
        "else:\n",
        "    result = \"<= 1\"\n",
        "print(result)   "
      ],
      "metadata": {
        "colab": {
          "base_uri": "https://localhost:8080/"
        },
        "id": "EycXTQq36459",
        "outputId": "392e0b67-9077-4f04-8cf5-355c3aa314f5"
      },
      "execution_count": 42,
      "outputs": [
        {
          "output_type": "stream",
          "name": "stdout",
          "text": [
            "<= 1\n"
          ]
        }
      ]
    },
    {
      "cell_type": "code",
      "source": [
        "a =-1\n",
        "result = \"= 0 \"  if a == 0 else \"<= 1\" \n",
        "print(result)"
      ],
      "metadata": {
        "colab": {
          "base_uri": "https://localhost:8080/"
        },
        "id": "1EGk9Asj9oU5",
        "outputId": "c0286501-29d7-4d14-d391-a2c73dc90d65"
      },
      "execution_count": 43,
      "outputs": [
        {
          "output_type": "stream",
          "name": "stdout",
          "text": [
            "<= 1\n"
          ]
        }
      ]
    },
    {
      "cell_type": "markdown",
      "source": [
        "*EJERCICIO 5*"
      ],
      "metadata": {
        "id": "P-Gh26bk-H0U"
      }
    },
    {
      "cell_type": "markdown",
      "source": [
        "**5 Reescriba el siguiente programa reemplazando la lista de comprensión con un while-loop**"
      ],
      "metadata": {
        "id": "PgTHWBCZ-LGf"
      }
    },
    {
      "cell_type": "code",
      "source": [
        "list_1 = [1, 2, 3, 4]\n",
        "result  =  [digit ** 2 for digit in list_1 if digit % 2 == 0]\n",
        "print(result)"
      ],
      "metadata": {
        "colab": {
          "base_uri": "https://localhost:8080/"
        },
        "id": "nWkudHo1-OeX",
        "outputId": "7cecfcd0-cf41-4857-ba99-14aa1203a1a8"
      },
      "execution_count": 44,
      "outputs": [
        {
          "output_type": "stream",
          "name": "stdout",
          "text": [
            "[4, 16]\n"
          ]
        }
      ]
    },
    {
      "cell_type": "code",
      "source": [
        "list_1 = [1, 2, 3, 4]\n",
        "while list_1 :\n",
        "    result  =  [digit ** 2 for digit in list_1 if digit % 2 == 0]\n",
        "    print(result)\n",
        "    break"
      ],
      "metadata": {
        "colab": {
          "base_uri": "https://localhost:8080/"
        },
        "id": "X1EMIohA-TCn",
        "outputId": "7e8e0580-b58f-4edc-ac4d-34319e1e9a4d"
      },
      "execution_count": 45,
      "outputs": [
        {
          "output_type": "stream",
          "name": "stdout",
          "text": [
            "[4, 16]\n"
          ]
        }
      ]
    },
    {
      "cell_type": "markdown",
      "source": [
        "*EJERCICIO 6*"
      ],
      "metadata": {
        "id": "kTK_yn10-Y-5"
      }
    },
    {
      "cell_type": "markdown",
      "source": [
        "**6 En la clase 1 te mostramos las siguientes afirmaciones:**"
      ],
      "metadata": {
        "id": "IJvJEFoy-cM3"
      }
    },
    {
      "cell_type": "code",
      "source": [
        "a = 1\n",
        "b = 1\n",
        "print(a is b)\n",
        "\n",
        "a = 1000\n",
        "b = 1000\n",
        "print(a is b)"
      ],
      "metadata": {
        "colab": {
          "base_uri": "https://localhost:8080/"
        },
        "id": "LAC4gp-t-fia",
        "outputId": "a75ecf81-095a-499d-8dd3-1be8c3e1894c"
      },
      "execution_count": 46,
      "outputs": [
        {
          "output_type": "stream",
          "name": "stdout",
          "text": [
            "True\n",
            "False\n"
          ]
        }
      ]
    },
    {
      "cell_type": "markdown",
      "source": [
        "Y, por supuesto, tienes curiosidad por la diferencia. Aprendimos en la clase 1 que los números enteros -5 hasta 255 fueron internados (guardados en disco) cuando comenzó Python, esto significa que los objetos con estos valores ya estaban creados. Ahora deseaamos escribir un programa que nos diga que 256 es de hecho el primer número entero que Python no esta guardado en disco.\n",
        "\n",
        "Escrbimos el siguiente programa y ahora necsitamos explicar por qué este programa imprimirá \"Sorpresa\". ¿No debería romperse mientras se procesa el número entero 256, ya que ese número no está guardado internamente?"
      ],
      "metadata": {
        "id": "ZaXvqMh--kCL"
      }
    },
    {
      "cell_type": "code",
      "source": [
        "for x in range(1000):\n",
        "    a = x\n",
        "    b = x\n",
        "    if not (a is b):\n",
        "        print(f\"the highest integer {x-1}\")\n",
        "        break\n",
        "else:\n",
        "    print(\"Surprise\")"
      ],
      "metadata": {
        "colab": {
          "base_uri": "https://localhost:8080/"
        },
        "id": "nlBWnODs-meQ",
        "outputId": "9ed30e53-c2ad-43b7-9fdf-397a453159d9"
      },
      "execution_count": 47,
      "outputs": [
        {
          "output_type": "stream",
          "name": "stdout",
          "text": [
            "Surprise\n"
          ]
        }
      ]
    },
    {
      "cell_type": "markdown",
      "source": [
        "Cunado usamos el for se crea un bucle y el codigo se ejecuta la cantidad de veces que se señale, pero al llegar al 256 como los números enteros -5 hasta 255 fueron internados, tal vez el bucle termina ahí."
      ],
      "metadata": {
        "id": "pAl4Mnul-_JH"
      }
    },
    {
      "cell_type": "markdown",
      "source": [
        "*EJERCICIO 7*"
      ],
      "metadata": {
        "id": "3y5jMUJd_Xpo"
      }
    },
    {
      "cell_type": "markdown",
      "source": [
        "**7 Vuelva a escribir la siguiente declaración sin un bucle y solo usando declaraciones condicionales:**"
      ],
      "metadata": {
        "id": "yEUAtJLh_anv"
      }
    },
    {
      "cell_type": "code",
      "source": [
        "i = 1\n",
        "while i < 4:\n",
        "    print(i)\n",
        "    i +=1"
      ],
      "metadata": {
        "colab": {
          "base_uri": "https://localhost:8080/"
        },
        "id": "JzLG03G6_oTu",
        "outputId": "e7cf87a2-e215-4efc-e7c9-7d9e7299c9c9"
      },
      "execution_count": 48,
      "outputs": [
        {
          "output_type": "stream",
          "name": "stdout",
          "text": [
            "1\n",
            "2\n",
            "3\n"
          ]
        }
      ]
    },
    {
      "cell_type": "code",
      "source": [
        "i = 1\n",
        "if 1 < 4:\n",
        "    n = i\n",
        "    n1 = i+1\n",
        "    n2 = i+2\n",
        "\n",
        "print(n)\n",
        "print(n1)\n",
        "print(n2)"
      ],
      "metadata": {
        "colab": {
          "base_uri": "https://localhost:8080/"
        },
        "id": "eXS9zm_j_poP",
        "outputId": "a0f236db-a3f3-4946-84ee-d97269d1b24a"
      },
      "execution_count": 50,
      "outputs": [
        {
          "output_type": "stream",
          "name": "stdout",
          "text": [
            "1\n",
            "2\n",
            "3\n"
          ]
        }
      ]
    }
  ]
}